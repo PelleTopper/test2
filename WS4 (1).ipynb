{
 "cells": [
  {
   "cell_type": "markdown",
   "id": "21d2a8b9",
   "metadata": {},
   "source": [
    "<header>\n",
    "        <div style=\"overflow: auto;\">\n",
    "        <img src=\"./images/AMS_LogoRED3.png\" style=\"float: left;\" width=\"300\" />\n",
    "        <img src=\"./images/TUDelft.jpg\" style=\"float: right;\" />\n",
    "    </div>\n",
    "    <div style=\"text-align: center;\">\n",
    "        <h1> AMS Data1 </h1>\n",
    "        <h2>Workshop 4: Tabular data and plotting part 1</h2>\n",
    "        <h6>&copy; 2023, TU Delft. Hans Hoogenboom, Creative Commons</h6>     \n",
    "    </div>\n",
    "    <br>   \n",
    "    <br>\n",
    "</header>"
   ]
  },
  {
   "cell_type": "markdown",
   "id": "8abf3b46",
   "metadata": {},
   "source": [
    "## Introduction\n",
    "\n",
    "Last week we started with a bit of data processing. We opened a file, tried to find the correct data and then use/manipulate that data for further operations. At the start we experienced already a problem, namely the naming of files on different operating systems (OS, e.g., Linux, Mac and Windows). Windows users had to change the path to the file they wanted to open while Mac users were okay. When exchanging scripts with users of different OS's it is annoying to have to manually change filenames. Even mentioning *manually* means that there is something wrong, we are automating things after all! Luckily for us that Python comes with a library (what a suprise) that can handle this issue for us. Meet ***os.path***!\n",
    "\n",
    "### The os.path library\n",
    "The *os.path* library comes with Python so there is no need to install it (actually the library is *os* and *path* is a library module, module for short). The module has several functions that can make our lives easier when dealing with files and directories (folders). The functions in *os.path* are not changing anything about the files so they are safe to use.\n",
    "\n",
    "#### File and filepaths\n",
    "Files on your computer are categorized (hopefully) in directories. You have a directory where Windows/Mac store all the essential OS files, there is a directory for your pictures etc. Directories and their contents reside on a physical disc (M2, SSD, harddrive, USB). On Windows these are the C: and the D: drives for example. A full path to a file on Windows might read *C:\\Users\\Hans\\Documents\\AMS\\WS4.ipynb*. *C:* is the drive letter, *\\Users\\Hans\\Documents\\AMS\\* is the path, *WS4* is the human readable filename and *.ipynb* is the file extension (the file type). Windows often hides the extensions and uses icons to denote filetypes.\n",
    "\n",
    "#### Absolute and relative paths\n",
    "When you run a script, you run the script from somewhere, usually from the directory where it is located. This is the current working directory."
   ]
  },
  {
   "cell_type": "code",
   "execution_count": null,
   "id": "9de43b01",
   "metadata": {},
   "outputs": [],
   "source": [
    "import os\n",
    "# print the current working directory (where am I?)\n",
    "print(os.getcwd())"
   ]
  },
  {
   "cell_type": "markdown",
   "id": "93dd4f8e",
   "metadata": {},
   "source": [
    "If I want to access a file called *data.csv* in say */home/hans/Documents/csv* from my current location I could do that in two ways: by giving the full path */home/hans/Documents/csv/data.csv* which is also named the **absolute path** or by traversing or moving from my current working directory to the new location. Moving from */home/hans/Documents/python* to */home/hans/Documents* is moving up (moving to the left in the path string), from */home/hans/Documents* to */home/hans/Documents/python* is moving down. Moving down is as simple as just specifying the directory name. Moving up is done by using two dots, e.g. \"..\". So if I am in */home/hans/Documents/python* and I say go to \"..\" I will end up in */home/hans/Documents*. If I then want to go to the *csv* directory I type *csv*. So ../csv is the **relative path** from my current working directory to */home/hans/Documents/csv*.\n",
    "\n",
    "If you are in the Windows command prompt or in the shell on Mac, you need to type *cd ..* to move up and *cd name* to move down. Give it a try. The *cd* stand for change directory.\n",
    "\n",
    "Ok, enough theory and background. So what functions do *os* and *os.path* provide that are useful to us? Below you find some code with comments demonstrating functions from the libraries."
   ]
  },
  {
   "cell_type": "code",
   "execution_count": null,
   "id": "2af91380",
   "metadata": {},
   "outputs": [],
   "source": [
    "import os\n",
    "# print the current working directory (where am I?)\n",
    "cwd = os.getcwd()\n",
    "# list all contents from the current directory\n",
    "os.listdir('.')\n",
    "# and from the directory above\n",
    "os.listdir('..')\n",
    "# make a new directory in the current directory\n",
    "# if you run the code twice you get an error\n",
    "os.mkdir(\"my_new_and_silly_dir\")\n",
    "\n",
    "import os.path\n",
    "# print the absolute path\n",
    "print(os.path.abspath('.'))\n",
    "print(os.path.abspath(\"..\"))\n",
    "print(os.path.abspath(\"../..\"))\n",
    "# print the name of the current directory\n",
    "print(os.path.basename(cwd))\n",
    "# print the path where the current directory or file is located\n",
    "print(os.path.dirname(cwd))\n",
    "\n",
    "fake_dir = \"answers_to_everything\"\n",
    "# you can join paths like this. Python adds extra \\ or /!\n",
    "new_path = os.path.join(cwd, fake_dir)\n",
    "print(new_path)\n",
    "# does a path exist?\n",
    "print(os.path.exists(new_path))\n",
    "os.mkdir(new_path)\n",
    "# now it does!\n",
    "print(os.path.exists(new_path))\n",
    "# are we dealing with a file?\n",
    "print(os.path.isfile(new_path))\n",
    "current_file = os.path.join(os.getcwd(), \"WS4.ipynb\")\n",
    "print(os.path.isfile(current_file))\n",
    "# get the size of a file\n",
    "print(os.path.getsize(current_file), \"bytes\")"
   ]
  },
  {
   "cell_type": "markdown",
   "id": "2dd9a481",
   "metadata": {},
   "source": [
    "Hopefully you have now some functions which can make your life easier when dealing with files on both Windows and Mac. \n",
    "\n",
    "### individual exercise 1:\n",
    "Rewrite the above script so you can run it repeatedly.\n",
    "\n",
    "## Pandas\n",
    "Pandas were mentioned during the previous lecture and workshop. Unfortunately they are not cute furry animals in the Python world (nor food for Pythons) but a library for data analysis and manipulation. [This is a link to the website](https://pandas.pydata.org/). You can install Pandas when you go to your shell (command line) and issue the following command: *py -m pip install pandas*. While your at it, also install [Plotly](https://plotly.com/python/), *py -m pip install plotly* and Matplotlib: *py -m pip install matplotlib*. When you install the libraries, probably a whole bunch of other libraries will get installed as well. If everything installed correctly the code below should return the version numbers of the installed libraries:"
   ]
  },
  {
   "cell_type": "code",
   "execution_count": null,
   "id": "e15bbe2e",
   "metadata": {},
   "outputs": [],
   "source": [
    "import pandas as pd\n",
    "#import plotly as pl\n",
    "#print(pd.__version__, '\\n', pl.__version__, sep='')"
   ]
  },
  {
   "cell_type": "markdown",
   "id": "558700fc",
   "metadata": {},
   "source": [
    "Pandas can best be compared to Excel. Just as Excel it uses a table, in Pandas a **dataframe**, of rows and columns. A column is called a **series** and can only have one specific datatype (only float or only string etc.). In that sense it is a little more strict then Excel.\n",
    "\n",
    "If you read through the Pandas documentation you will often see a reference to ndarrays or to Numpy. Ndarrays are n-dimensional arrays (lists) of data and are a data structure from the Numpy library. In a next workshop I will dive in to that library, just to get you familiar with how it works. Something you will appreciate about Pandas is that it can read a lot of different data files by default, have a look at [this list](https://pandas.pydata.org/docs/user_guide/io.html).\n",
    "\n",
    "You can create your own dataframe with the following function using the *DataFrame* method (take note of the capitals):"
   ]
  },
  {
   "cell_type": "code",
   "execution_count": null,
   "id": "d2211d4a",
   "metadata": {},
   "outputs": [],
   "source": [
    "df = pd.DataFrame([['AMS', 'Amsterdam', 'Schiphol'], ['LHR', 'London', 'London Heathrow Airport']])\n",
    "print(df)"
   ]
  },
  {
   "cell_type": "markdown",
   "id": "b32ec912",
   "metadata": {},
   "source": [
    "We can add some human readable names to the rows (indices) and columns by directly assigning a list with names."
   ]
  },
  {
   "cell_type": "code",
   "execution_count": null,
   "id": "b756f6db",
   "metadata": {},
   "outputs": [],
   "source": [
    "columns=['IATA', 'City', 'Airport']\n",
    "df.columns = columns\n",
    "# or directly assign\n",
    "df.index = ['a', 'l']\n",
    "print(df)"
   ]
  },
  {
   "cell_type": "markdown",
   "id": "1125bb8c",
   "metadata": {},
   "source": [
    "Getting the data from a colum is pretty much the same as when working with Python dictionaries:"
   ]
  },
  {
   "cell_type": "code",
   "execution_count": null,
   "id": "7298ed3b",
   "metadata": {},
   "outputs": [],
   "source": [
    "df['IATA']"
   ]
  },
  {
   "cell_type": "markdown",
   "id": "9b7c49cc",
   "metadata": {},
   "source": [
    "But getting data from an index row is a bit different. We need to use the function *loc* here:"
   ]
  },
  {
   "cell_type": "code",
   "execution_count": null,
   "id": "79b161e9",
   "metadata": {},
   "outputs": [],
   "source": [
    "df.loc['a']"
   ]
  },
  {
   "cell_type": "markdown",
   "id": "d02968a9",
   "metadata": {},
   "source": [
    "With the *iloc* function you query by a number, so the 1st row:"
   ]
  },
  {
   "cell_type": "code",
   "execution_count": null,
   "id": "f0d9d725",
   "metadata": {},
   "outputs": [],
   "source": [
    "df.iloc[0]"
   ]
  },
  {
   "cell_type": "markdown",
   "id": "69a76fdc",
   "metadata": {},
   "source": [
    "See here for more indexing operations: [Indexing and selecting data](https://pandas.pydata.org/docs/user_guide/indexing.html)\n",
    "\n",
    "Another example of creating a dataframe, this time with numbers. We initialize the dataframe by a list of numbers. Each row is a seperate list of numbers, all rows are enclosed in square brackets again. That is why you see the \\[\\[ at the start and \\]\\] at the end. We can also set the column and row headers directly. You see that the first row of integers gets promoted to floats. A series (column) can have only one data type!"
   ]
  },
  {
   "cell_type": "code",
   "execution_count": null,
   "id": "13a0270f",
   "metadata": {},
   "outputs": [],
   "source": [
    "nf = pd.DataFrame([[0, 1, 2], [2.0, 3.0, 4.0], [3.0, 4.0, 5.0]], columns=['2021', '2022', '2023'], index=['area1', 'area2', 'area3'])\n",
    "nf"
   ]
  },
  {
   "cell_type": "markdown",
   "id": "49c3844e",
   "metadata": {},
   "source": [
    "You can create a single column, a series, using the *Series* function. We can give the series a name and insert it into our datafame using the *insert* method:"
   ]
  },
  {
   "cell_type": "code",
   "execution_count": null,
   "id": "79f5e079",
   "metadata": {},
   "outputs": [],
   "source": [
    "ns = pd.Series([3.0, 5.0, 6], name='boring', index=['area1', 'area2', 'area3'])\n",
    "print(ns)\n",
    "nf.insert(2, 'leap', ns)\n",
    "nf"
   ]
  },
  {
   "cell_type": "markdown",
   "id": "3a92bc2e",
   "metadata": {},
   "source": [
    "### individual exercise 2:\n",
    "1) What happens if you execute the code in the above cell a second time?\n",
    "2) Change the *insert* statement so that we can insert a new column, do not execute yet! What happens if you change the names of the indices, or remove the *index = ...* altogether, of the **ns** series and you try to insert ns again? Now you can execute the code!\n",
    "\n",
    "You can set change the values of a cell using the *at* or *iat* function"
   ]
  },
  {
   "cell_type": "code",
   "execution_count": null,
   "id": "ec53912f-4932-4e6b-bad7-de8ce67b0d45",
   "metadata": {},
   "outputs": [],
   "source": [
    "# use a name based approach\n",
    "nf.at['area1', '2022'] = 12.1\n",
    "print(nf, '\\n')\n",
    "# or change by index. Do you see a pattern in the \n",
    "# naming of the functions loc, iloc, at and iat?\n",
    "print(\"Cell at position 1,1:\", nf.iat[1, 1])\n",
    "\n",
    "#print the names of the axes...the index and column names\n",
    "print(nf.axes)\n",
    "\n",
    "# find the maximum value of a column\n",
    "print(\"Max value in column 2023:\", nf['2023'].max())\n",
    "\n",
    "# find ALL the maximum values in the columns\n",
    "print(\"\\nColumns:\\n\", nf.max(axis=0), sep='')\n",
    "# and in the rows\n",
    "print(\"Rows:\\n\", nf.max(axis=1), sep='')\n",
    "# get a single row\n",
    "sf = nf.loc['area2']\n",
    "print(\"\\nContents of sf:\\n\", sf, sep='')"
   ]
  },
  {
   "cell_type": "markdown",
   "id": "b9067389-cb45-4c28-b3c9-fccd9dd0d138",
   "metadata": {},
   "source": [
    "What does the *sep* in the print statement do? Change the value and see what happens.\n",
    "\n",
    "So far we only got a single row or a single value out of our dataframe. How can you select multiple columns and rows at once? One method is by specifying the column names you want to have as a list:"
   ]
  },
  {
   "cell_type": "code",
   "execution_count": null,
   "id": "ec65db6b-a5c9-4a12-a11d-26288211c479",
   "metadata": {},
   "outputs": [],
   "source": [
    "new_frame = nf[['2022', 'leap']]\n",
    "print(new_frame)"
   ]
  },
  {
   "cell_type": "markdown",
   "id": "9b17a695-7eef-4cec-ba96-8dd20b16f31c",
   "metadata": {},
   "source": [
    "Or we can use the iloc function in combination with slicing. Slicing is a bit similar to a range (well actually it is a range) where we have a start, an end (up to, remember!) and a step. The iloc works on a two dimensional structure, the first part is for rows (indices), the second part for columns:"
   ]
  },
  {
   "cell_type": "code",
   "execution_count": null,
   "id": "7fc2777d-2bd1-4ec9-a951-34534bcc6adc",
   "metadata": {},
   "outputs": [],
   "source": [
    "# slice by columns only\n",
    "col_b = nf.columns.get_loc('2022')\n",
    "col_e = nf.columns.get_loc('leap')\n",
    "new_frame = nf.iloc[: , col_b : col_e]\n",
    "print(new_frame)\n",
    "\n",
    "# also slice some rows\n",
    "new_frame = nf.iloc[1:3 , col_b : col_e + 1]\n",
    "print(new_frame)"
   ]
  },
  {
   "cell_type": "markdown",
   "id": "bc6f052e-841d-47bf-862f-2e2441483e55",
   "metadata": {},
   "source": [
    "These are some of the basic operations of Pandas. There are many more functions to actually do something with the data like finding the [median](https://pandas.pydata.org/docs/reference/api/pandas.DataFrame.median.html). If you search on Google or use ChatGPT you will find some more examples and methods.\n",
    "\n",
    "## Plotting\n",
    "There are many plotting libraries for Python. One of the most well known is [Matplotlib](https://matplotlib.org/). For statistics two nice libraries are [Seaborn](https://seaborn.pydata.org/index.html) and Plotly. For this workshop we will make use of Plotly. Pandas uses Matplotlib by default. You can install Matplotlib with the usual command: *py -m pip install matplotlib*"
   ]
  },
  {
   "cell_type": "code",
   "execution_count": null,
   "id": "a0e55b42-7885-4cc9-b5d4-3417570e1725",
   "metadata": {},
   "outputs": [],
   "source": [
    "# plot internal\n",
    "import matplotlib.pyplot as plt\n",
    "plt.figure()\n",
    "nf.plot.hist()"
   ]
  },
  {
   "cell_type": "markdown",
   "id": "d35ed3ed-0443-44c4-bff1-a0316e0081df",
   "metadata": {},
   "source": [
    "If we want to use another library for plotting we have to tell Pandas so:"
   ]
  },
  {
   "cell_type": "code",
   "execution_count": null,
   "id": "dc90e074-e78b-41d9-84e3-50da1c2f2e11",
   "metadata": {},
   "outputs": [],
   "source": [
    "# change default plotting library\n",
    "pd.options.plotting.backend = \"plotly\"\n",
    "fig = nf.plot()\n",
    "fig.show()"
   ]
  },
  {
   "cell_type": "markdown",
   "id": "8d436945-eaa4-4e9c-8ad4-0ffb3a4d1006",
   "metadata": {},
   "source": [
    "Explore the Plotly website for some basic tutorial on the usage. You can get started [here](https://plotly.com/python/figure-structure/) and [here](https://plotly.com/python/creating-and-updating-figures/)."
   ]
  },
  {
   "cell_type": "markdown",
   "id": "12500340",
   "metadata": {},
   "source": [
    "### Group exercise\n",
    "On Brightspace you can find under Contents/Resources a long list of datasets. Under the [AirBnB](https://brightspace.wur.nl/d2l/le/content/240321/viewContent/1052192/View) heading you can find a link to a website where you can download the AirBnB data from Amsterdam. Find the average price and the median for the Westerpark neighborhood. Plot the median distribution using Plotly."
   ]
  },
  {
   "cell_type": "markdown",
   "id": "2cc1332a",
   "metadata": {},
   "source": [
    "## Some useful links\n",
    "[Pandas 10 min tutorial](https://pandas.pydata.org/docs/user_guide/10min.html)\n",
    "<br>[Pandas cookbook](https://pandas.pydata.org/docs/user_guide/cookbook.html)\n",
    "<br>[Plotly statistical charts](https://plotly.com/python/statistical-charts/)\n",
    "<br>[Numpy](https://numpy.org/)\n",
    "<br>[Numpy quickstart](https://numpy.org/devdocs/user/quickstart.html)"
   ]
  },
  {
   "cell_type": "markdown",
   "id": "000662d5",
   "metadata": {},
   "source": [
    "### THE END\n",
    "###### Hans Hoogenboom, Sept. 2023"
   ]
  }
 ],
 "metadata": {
  "kernelspec": {
   "display_name": "Python 3 (ipykernel)",
   "language": "python",
   "name": "python3"
  },
  "language_info": {
   "codemirror_mode": {
    "name": "ipython",
    "version": 3
   },
   "file_extension": ".py",
   "mimetype": "text/x-python",
   "name": "python",
   "nbconvert_exporter": "python",
   "pygments_lexer": "ipython3",
   "version": "3.11.5"
  }
 },
 "nbformat": 4,
 "nbformat_minor": 5
}
